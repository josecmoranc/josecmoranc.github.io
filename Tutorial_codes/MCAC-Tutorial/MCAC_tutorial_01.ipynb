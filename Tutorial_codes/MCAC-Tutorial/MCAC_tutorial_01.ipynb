{
 "cells": [
  {
   "cell_type": "markdown",
   "metadata": {},
   "source": [
    "# Tutorial 01: Simulating agglomeration"
   ]
  },
  {
   "cell_type": "markdown",
   "metadata": {},
   "source": [
    "## Table of Contents\n",
    "1. [Introduction](#Introduction)\n",
    "2. [Generating MCAC input file](#Input)\n",
    "3. [Running MCAC](#run)\n",
    "4. [Open output data](#output)\n",
    "    1. [Open the \"advancement.dat\" file](#advancement)"
   ]
  },
  {
   "cell_type": "markdown",
   "metadata": {},
   "source": [
    "## 1. Introduction <a class=\"anchor\" id=\"Introduction\"></a>\n",
    "\n",
    "This is an introductory tutorial to Monte Carlo Aggregation Code (MCAC) simulations. I this tutorial we will simulate the agglomeration of nanoparticles in a cubic domain with periodic boundary conditions. The simulation start with a total of 500 spherical primary particles of polydisperse size (lognormal distriution; diameter geometric std=1.2 and geometric mean=20 nm). The particle volume fraction is 100 ppm, and thermodynamic conditions are T=1700 K and P=101.3 kPa. Particle's bulk density is 1.8 g/cm$^3$ The simulation is stopped when there is only one agglomerate remaining in the system."
   ]
  },
  {
   "cell_type": "markdown",
   "metadata": {},
   "source": [
    "## 2. Generating MCAC input file <a class=\"anchor\" id=\"Input\"></a>"
   ]
  },
  {
   "cell_type": "code",
   "execution_count": 1,
   "metadata": {},
   "outputs": [],
   "source": [
    "import configparser"
   ]
  },
  {
   "cell_type": "markdown",
   "metadata": {},
   "source": [
    "MCAC input parameters should be provided as a \".ini\" file. To generate such a files in Python you need to install and import the library \"configparser\" however, such an input file could be also generated manually.\n",
    "\n",
    "As you will see below, \".ini\" files allow a clear and ordered input file to be created. If you forget one of these parameters, there are two possible outcomes:\n",
    " * MCAC input error is raised when values are out of possible range or not provided.\n",
    " * MCAC is running based on default values.\n",
    "\n",
    "<div class=\"alert alert-block alert-warning\">\n",
    "    <b>Becareful:</b> You have to be aware of MCAC input units. As a default criteria you should use SI units but always check them because there are some exceptions. To check units and default values, please refer to: MCAC/src/physical_model/physical_model.cpp. Also, once you run the code, it will show you all the input parameters.\n",
    "</div>"
   ]
  },
  {
   "cell_type": "code",
   "execution_count": 2,
   "metadata": {},
   "outputs": [],
   "source": [
    "# Parameters\n",
    "\n",
    "simulation_name = \"Tutorial_01\"\n",
    "\n",
    "## environment\n",
    "pressure = 101300\n",
    "temperature = 1700\n",
    "volume_fraction = 100e-06\n",
    "\n",
    "## monomers\n",
    "density = 1800\n",
    "initialisation_mode = 'lognormal'\n",
    "dispersion_diameter = 1.2\n",
    "mean_diameter = 20\n",
    "number = 500\n",
    "\n",
    "## limits\n",
    "number_of_aggregates_limit = 1\n",
    "\n",
    "## numerics\n",
    "pick_method = 'random'\n",
    "with_domain_duplication = 'false'\n",
    "\n",
    "## output\n",
    "n_time_per_file = 5000\n",
    "output_dir = simulation_name + \"_output\"\n",
    "write_between_event_frequency = 100000000\n",
    "write_events_frequency = 1"
   ]
  },
  {
   "cell_type": "code",
   "execution_count": 3,
   "metadata": {},
   "outputs": [
    {
     "name": "stdout",
     "output_type": "stream",
     "text": [
      "Input file saved as: Tutorial_01.ini\n"
     ]
    }
   ],
   "source": [
    "config = configparser.ConfigParser()\n",
    "config['environment'] = {'pressure': str(pressure),\n",
    "                         'temperature': str(temperature),\n",
    "                         'volume_fraction': str(volume_fraction)}\n",
    "config['monomers'] = {'density': str(density),\n",
    "                      'dispersion_diameter': str(dispersion_diameter),\n",
    "                      'initialisation_mode': initialisation_mode,\n",
    "                      'mean_diameter': str(mean_diameter),\n",
    "                      'number': str(number)}\n",
    "config['limits'] = {'number_of_aggregates_limit': str(number_of_aggregates_limit)}\n",
    "\n",
    "config['numerics'] = {'pick_method': pick_method,\n",
    "                      'with_domain_duplication': with_domain_duplication}\n",
    "config['output'] = {'n_time_per_file': str(n_time_per_file),\n",
    "                    'output_dir': output_dir,\n",
    "                    'write_between_event_frequency': str(write_between_event_frequency),\n",
    "                    'write_events_frequency': str(write_events_frequency)}\n",
    "\n",
    "with open(simulation_name+'.ini', 'w') as configfile:\n",
    "    config.write(configfile)\n",
    "print(\"Input file saved as: \"+simulation_name+'.ini')"
   ]
  },
  {
   "cell_type": "markdown",
   "metadata": {},
   "source": [
    "If you open this file, you should see something like this:\n",
    "![01_tutorial_ini](https://github.com/josecmoranc/josecmoranc.github.io/assets/62391931/879f0f27-e8d4-49a7-8e3a-c45746c9a26a)"
   ]
  },
  {
   "cell_type": "markdown",
   "metadata": {},
   "source": [
    "## 3. Running MCAC <a class=\"anchor\" id=\"run\"></a>"
   ]
  },
  {
   "cell_type": "markdown",
   "metadata": {},
   "source": [
    "Now, using our \".ini\" file we will run MCAC in a terminal. You should go to the directory where MCAC has been installed, open a terminal and type: **bin/Release/MCAC Tutorial_01.ini**. In this case, the \".ini\" file has been pasted in the same directory of MCAC, you may alternatively provide the direcory of your \".ini\" file when runing MCAC.\n",
    "![01_tutorial_MCAC1](https://github.com/josecmoranc/josecmoranc.github.io/assets/62391931/e77c71a7-8679-458b-8378-59e9469315a2)\n",
    "\n",
    "As you can see in this image, MCAC is showing all the input parameters that has read from our \".ini\" file and indicates the units of each one. You can note that additional parameters are shown, some of them are taken as default values (such as dfe and kfe) and some of them are determined based on the provided data (e.g., fluid viscosity). \n",
    "\n",
    "Subsequently, the code will show you all the *events* (an event can be a contact between particles, aggregation or merge, and others to be discussed in later tutorials) identified during the simulation as a function of time as shown in the image below. Now we have just to wait until the code has finished the simulation.\n",
    "\n",
    "![01_tutorial_MCAC2](https://github.com/josecmoranc/josecmoranc.github.io/assets/62391931/48ca6eb8-6a2f-48ef-ace4-b04aa4fd0b5b)"
   ]
  },
  {
   "cell_type": "markdown",
   "metadata": {},
   "source": [
    "Once the simulation is finished, the code will indicate where the output files are saved. If you indicated a directory in the input file, then the output data should be saved there:\n",
    "![01_tutorial_MCAC3](https://github.com/josecmoranc/josecmoranc.github.io/assets/62391931/e611221d-9ac1-4dfa-91c3-db0c348dbb05)"
   ]
  },
  {
   "cell_type": "markdown",
   "metadata": {},
   "source": [
    "## 4. Open output data <a class=\"anchor\" id=\"output\"></a>"
   ]
  },
  {
   "cell_type": "markdown",
   "metadata": {},
   "source": [
    "The output data looks like this:\n",
    "![01_tutorial_MCAC4](https://github.com/josecmoranc/josecmoranc.github.io/assets/62391931/eacb5033-aeb3-4d5d-84e1-a9b2ed48afb0)\n",
    "\n",
    "You can note the different types of files:\n",
    "* **advancement.dat:** Contains certain global information of the simulation as a function of time. It allows a fast post-processing check of the progress of the simulation.\n",
    "* **params.ini:** This is a copy of the input parameter file. It is useful to check later that you correctly simulated this case, ease post-processing, and remember the parameters of this simulation.\n",
    "* **Aggregats_...** and **Spheres_...** Contain all the information of aggregates and primary spheres, respectively."
   ]
  },
  {
   "cell_type": "markdown",
   "metadata": {},
   "source": [
    "### 4.1. Open the \"advancement.dat\" file <a class=\"anchor\" id=\"advancement\"></a>"
   ]
  },
  {
   "cell_type": "code",
   "execution_count": 4,
   "metadata": {},
   "outputs": [],
   "source": [
    "from TutorialTools import import_physical_model"
   ]
  },
  {
   "cell_type": "code",
   "execution_count": 5,
   "metadata": {},
   "outputs": [
    {
     "data": {
      "text/html": [
       "<div>\n",
       "<style scoped>\n",
       "    .dataframe tbody tr th:only-of-type {\n",
       "        vertical-align: middle;\n",
       "    }\n",
       "\n",
       "    .dataframe tbody tr th {\n",
       "        vertical-align: top;\n",
       "    }\n",
       "\n",
       "    .dataframe thead th {\n",
       "        text-align: right;\n",
       "    }\n",
       "</style>\n",
       "<table border=\"1\" class=\"dataframe\">\n",
       "  <thead>\n",
       "    <tr style=\"text-align: right;\">\n",
       "      <th></th>\n",
       "      <th>Nagg</th>\n",
       "      <th>fv</th>\n",
       "      <th>np_avg</th>\n",
       "      <th>T</th>\n",
       "      <th>box_volume</th>\n",
       "      <th>Npp</th>\n",
       "      <th>u_sg</th>\n",
       "      <th>J_nuc</th>\n",
       "    </tr>\n",
       "    <tr>\n",
       "      <th>time</th>\n",
       "      <th></th>\n",
       "      <th></th>\n",
       "      <th></th>\n",
       "      <th></th>\n",
       "      <th></th>\n",
       "      <th></th>\n",
       "      <th></th>\n",
       "      <th></th>\n",
       "    </tr>\n",
       "  </thead>\n",
       "  <tbody>\n",
       "    <tr>\n",
       "      <th>0.000000e+00</th>\n",
       "      <td>2.055640e+19</td>\n",
       "      <td>0.0001</td>\n",
       "      <td>1.00000</td>\n",
       "      <td>1700.0</td>\n",
       "      <td>2.432330e-17</td>\n",
       "      <td>2.055640e+19</td>\n",
       "      <td>0.0</td>\n",
       "      <td>0.0</td>\n",
       "    </tr>\n",
       "    <tr>\n",
       "      <th>1.495510e-08</th>\n",
       "      <td>2.051530e+19</td>\n",
       "      <td>0.0001</td>\n",
       "      <td>1.00200</td>\n",
       "      <td>1700.0</td>\n",
       "      <td>2.432330e-17</td>\n",
       "      <td>2.055640e+19</td>\n",
       "      <td>0.0</td>\n",
       "      <td>0.0</td>\n",
       "    </tr>\n",
       "    <tr>\n",
       "      <th>3.276270e-08</th>\n",
       "      <td>2.047420e+19</td>\n",
       "      <td>0.0001</td>\n",
       "      <td>1.00402</td>\n",
       "      <td>1700.0</td>\n",
       "      <td>2.432330e-17</td>\n",
       "      <td>2.055640e+19</td>\n",
       "      <td>0.0</td>\n",
       "      <td>0.0</td>\n",
       "    </tr>\n",
       "    <tr>\n",
       "      <th>4.106260e-08</th>\n",
       "      <td>2.043310e+19</td>\n",
       "      <td>0.0001</td>\n",
       "      <td>1.00604</td>\n",
       "      <td>1700.0</td>\n",
       "      <td>2.432330e-17</td>\n",
       "      <td>2.055640e+19</td>\n",
       "      <td>0.0</td>\n",
       "      <td>0.0</td>\n",
       "    </tr>\n",
       "    <tr>\n",
       "      <th>4.697160e-08</th>\n",
       "      <td>2.039200e+19</td>\n",
       "      <td>0.0001</td>\n",
       "      <td>1.00806</td>\n",
       "      <td>1700.0</td>\n",
       "      <td>2.432330e-17</td>\n",
       "      <td>2.055640e+19</td>\n",
       "      <td>0.0</td>\n",
       "      <td>0.0</td>\n",
       "    </tr>\n",
       "  </tbody>\n",
       "</table>\n",
       "</div>"
      ],
      "text/plain": [
       "                      Nagg      fv   np_avg       T    box_volume  \\\n",
       "time                                                                \n",
       "0.000000e+00  2.055640e+19  0.0001  1.00000  1700.0  2.432330e-17   \n",
       "1.495510e-08  2.051530e+19  0.0001  1.00200  1700.0  2.432330e-17   \n",
       "3.276270e-08  2.047420e+19  0.0001  1.00402  1700.0  2.432330e-17   \n",
       "4.106260e-08  2.043310e+19  0.0001  1.00604  1700.0  2.432330e-17   \n",
       "4.697160e-08  2.039200e+19  0.0001  1.00806  1700.0  2.432330e-17   \n",
       "\n",
       "                       Npp  u_sg  J_nuc  \n",
       "time                                     \n",
       "0.000000e+00  2.055640e+19   0.0    0.0  \n",
       "1.495510e-08  2.055640e+19   0.0    0.0  \n",
       "3.276270e-08  2.055640e+19   0.0    0.0  \n",
       "4.106260e-08  2.055640e+19   0.0    0.0  \n",
       "4.697160e-08  2.055640e+19   0.0    0.0  "
      ]
     },
     "execution_count": 5,
     "metadata": {},
     "output_type": "execute_result"
    }
   ],
   "source": [
    "physical_model = import_physical_model(output_dir+\"/advancement.dat\")\n",
    "physical_model.head()"
   ]
  },
  {
   "cell_type": "markdown",
   "metadata": {},
   "source": [
    "In this version of MCAC, this file contains the following information:\n",
    "* **time:** The residence time.\n",
    "* **Nagg:** The number concentration of aggregates in the domain.\n",
    "* **fv:** The volume fraction.\n",
    "* **np_avg:** The average number of monomers per aggregate.\n",
    "* **T:** The temperature.\n",
    "* **box_volume:** The volume of the simulation domain.\n",
    "* **Npp:** The number concentration of monomers in the domain.\n",
    "* **u_sr:** The surface reactions rate.\n",
    "* **J_nuc:** Nucleation flux (1/m$^3$/s).\n",
    "\n",
    "Please note that most of these properties are macroscopic variables that are physically meaningful when the population of particles in the system is statistically significant (in this tutorial a small amount of particles is preferred to run the code fast however, it does not allow physical interpretation).\n",
    "\n",
    "Now we plot **Nagg** and **Npp** as a function of time as an example:"
   ]
  },
  {
   "cell_type": "code",
   "execution_count": 10,
   "metadata": {},
   "outputs": [
    {
     "data": {
      "text/plain": [
       "<matplotlib.axes._subplots.AxesSubplot at 0x7effeb4efc50>"
      ]
     },
     "execution_count": 10,
     "metadata": {},
     "output_type": "execute_result"
    },
    {
     "data": {
      "image/png": "[encoded data removed]",
      "text/plain": [
       "<Figure size 432x288 with 1 Axes>"
      ]
     },
     "metadata": {
      "needs_background": "light"
     },
     "output_type": "display_data"
    }
   ],
   "source": [
    "physical_model[[\"Nagg\",\"Npp\"]].plot(loglog=True)"
   ]
  },
  {
   "cell_type": "code",
   "execution_count": null,
   "metadata": {},
   "outputs": [],
   "source": []
  },
  {
   "cell_type": "code",
   "execution_count": null,
   "metadata": {},
   "outputs": [],
   "source": []
  }
 ],
 "metadata": {
  "kernelspec": {
   "display_name": "Python 3 (ipykernel)",
   "language": "python",
   "name": "python3"
  },
  "language_info": {
   "codemirror_mode": {
    "name": "ipython",
    "version": 3
   },
   "file_extension": ".py",
   "mimetype": "text/x-python",
   "name": "python",
   "nbconvert_exporter": "python",
   "pygments_lexer": "ipython3",
   "version": "3.8.10"
  }
 },
 "nbformat": 4,
 "nbformat_minor": 4
}
